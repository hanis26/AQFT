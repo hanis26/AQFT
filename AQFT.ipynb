{
 "cells": [
  {
   "cell_type": "code",
   "execution_count": 3,
   "id": "40ecce73",
   "metadata": {},
   "outputs": [
    {
     "name": "stdout",
     "output_type": "stream",
     "text": [
      "Imports Successful\n"
     ]
    }
   ],
   "source": [
    "import numpy as np\n",
    "from numpy import pi\n",
    "import matplotlib.pyplot as plt\n",
    "from qiskit import QuantumCircuit, transpile, assemble, Aer, IBMQ\n",
    "from qiskit.providers.ibmq import least_busy\n",
    "from qiskit.tools.monitor import job_monitor\n",
    "from qiskit.visualization import plot_histogram, plot_bloch_multivector\n",
    "from math import gcd\n",
    "from numpy.random import randint\n",
    "import pandas as pd\n",
    "from fractions import Fraction\n",
    "print(\"Imports Successful\")"
   ]
  },
  {
   "cell_type": "code",
   "execution_count": 4,
   "id": "4ede25b3",
   "metadata": {},
   "outputs": [],
   "source": [
    "def qft_rotations(circuit, n):\n",
    "    if n == 0: # Exit function if circuit is empty\n",
    "        return circuit\n",
    "    n -= 1 # Indexes start from 0\n",
    "    circuit.h(n) # Apply the H-gate to the most significant qubit\n",
    "    for qubit in range(n):\n",
    "        # For each less significant qubit, we need to do a\n",
    "        # smaller-angled controlled rotation: \n",
    "        circuit.cp(pi/2**(n-qubit), qubit, n)\n",
    "        # At the end of our function, we call the same function again on\n",
    "        # the next qubits (we reduced n by one earlier in the function)\n",
    "    qft_rotations(circuit, n)"
   ]
  },
  {
   "cell_type": "code",
   "execution_count": 5,
   "id": "4d0c6d8f",
   "metadata": {},
   "outputs": [
    {
     "data": {
      "text/html": [
       "<pre style=\"word-wrap: normal;white-space: pre;background: #fff0;line-height: 1.1;font-family: &quot;Courier New&quot;,Courier,monospace\">                                                                          ┌───┐\n",
       "q_0: ──────■───────────────────────────────■──────────────────────■───────┤ H ├\n",
       "           │                               │                ┌───┐ │P(π/2) └───┘\n",
       "q_1: ──────┼────────■──────────────────────┼────────■───────┤ H ├─■────────────\n",
       "           │        │                ┌───┐ │P(π/4)  │P(π/2) └───┘              \n",
       "q_2: ──────┼────────┼────────■───────┤ H ├─■────────■──────────────────────────\n",
       "     ┌───┐ │P(π/8)  │P(π/4)  │P(π/2) └───┘                                     \n",
       "q_3: ┤ H ├─■────────■────────■─────────────────────────────────────────────────\n",
       "     └───┘                                                                     </pre>"
      ],
      "text/plain": [
       "                                                                          ┌───┐\n",
       "q_0: ──────■───────────────────────────────■──────────────────────■───────┤ H ├\n",
       "           │                               │                ┌───┐ │P(π/2) └───┘\n",
       "q_1: ──────┼────────■──────────────────────┼────────■───────┤ H ├─■────────────\n",
       "           │        │                ┌───┐ │P(π/4)  │P(π/2) └───┘              \n",
       "q_2: ──────┼────────┼────────■───────┤ H ├─■────────■──────────────────────────\n",
       "     ┌───┐ │P(π/8)  │P(π/4)  │P(π/2) └───┘                                     \n",
       "q_3: ┤ H ├─■────────■────────■─────────────────────────────────────────────────\n",
       "     └───┘                                                                     "
      ]
     },
     "execution_count": 5,
     "metadata": {},
     "output_type": "execute_result"
    }
   ],
   "source": [
    "qc = QuantumCircuit(4)\n",
    "qft_rotations(qc,4)\n",
    "qc.draw()"
   ]
  },
  {
   "cell_type": "code",
   "execution_count": 8,
   "id": "b468bdfd",
   "metadata": {},
   "outputs": [],
   "source": [
    "# from qiskit_textbook.widgets import scalable_circuit\n",
    "# scalable_circuit(qft_rotations)\n",
    "\n",
    "# def swap_registers(circuit, n):\n",
    "#     for qubit in range(n//2):\n",
    "#         circuit.swap(qubit, n-qubit-1)\n",
    "#     return circuit\n",
    "\n",
    "# def qft(circuit, n):\n",
    "#     \"\"\"QFT on the first n qubits in circuit\"\"\"\n",
    "#     qft_rotations(circuit, n)\n",
    "#     swap_registers(circuit, n)\n",
    "#     return circuit\n",
    "\n",
    "\n",
    "\n",
    "# # Let's see how it looks:\n",
    "# qc = QuantumCircuit(4)\n",
    "# qft(qc,4)\n",
    "# qc.draw()\n",
    "\n"
   ]
  },
  {
   "cell_type": "code",
   "execution_count": 9,
   "id": "378be94e",
   "metadata": {},
   "outputs": [],
   "source": [
    "# Let us now proceed to carry out approximate QFT. In order to do that, we modify the code qft rotation.We do that\n",
    "# by the following prescription. Suppose that the rotation caused by CROT is denoted by pi / 2^{k-j} where k is the \n",
    "#control qubit and j is the qubit on which the rotation acts. we create a function to take in another parameter m \n",
    "#such that rotation on the qubits is caused only if the contraint (pi / 2^{k - j} ) > (pi / 2^{m}) is satisfied\n",
    "\n",
    "def approx_qft_rotations(circuit, n, m):\n",
    "    if n == 0: # Exit function if circuit is empty\n",
    "        return circuit\n",
    "    n -= 1 # Indexes start from 0\n",
    "    circuit.h(n) # Apply the H-gate to the most significant qubit\n",
    "    for qubit in range(n):\n",
    "        # For each less significant qubit, check if the controlled rotation should be applied\n",
    "        if pi/2**(n -qubit) > pi/2**m:\n",
    "            # If the angle of the controlled rotation satisfies the constraint, apply the rotation\n",
    "            circuit.cp(pi/2**(n-qubit), t, n)\n",
    "        # At the end of our function, we call the same function again on\n",
    "        # the next qubits (we reduced n by one earlier in the function)\n",
    "    approx_qft_rotations(circuit, n, m)\n",
    "    \n",
    "    \n",
    "#We now define approx_qft in terms of the above function approx_qft_rotations\n",
    "def swap_registers(circuit, n):\n",
    "    for qubit in range(n//2):\n",
    "        circuit.swap(qubit, n-qubit-1)\n",
    "    return circuit\n",
    "\n",
    "def approx_qft(circuit, n,m):\n",
    "    \"\"\"QFT on the first n qubits in circuit\"\"\"\n",
    "    approx_qft_rotations(circuit, n,m)\n",
    "    swap_registers(circuit, n)\n",
    "    return circuit\n",
    "\n",
    "\n"
   ]
  },
  {
   "cell_type": "code",
   "execution_count": 10,
   "id": "959bf155",
   "metadata": {},
   "outputs": [],
   "source": []
  }
 ],
 "metadata": {
  "kernelspec": {
   "display_name": "Python 3 (ipykernel)",
   "language": "python",
   "name": "python3"
  },
  "language_info": {
   "codemirror_mode": {
    "name": "ipython",
    "version": 3
   },
   "file_extension": ".py",
   "mimetype": "text/x-python",
   "name": "python",
   "nbconvert_exporter": "python",
   "pygments_lexer": "ipython3",
   "version": "3.9.13"
  }
 },
 "nbformat": 4,
 "nbformat_minor": 5
}
