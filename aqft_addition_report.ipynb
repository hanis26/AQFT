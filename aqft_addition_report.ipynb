{
 "cells": [
  {
   "attachments": {},
   "cell_type": "markdown",
   "metadata": {},
   "source": [
    "This is a code for the quantum addition algorithm that uses the approximate fourier transform, using an algorithm described in the paper \"Addition on a quantum computer\" cited in our first report."
   ]
  },
  {
   "cell_type": "code",
   "execution_count": 2,
   "metadata": {},
   "outputs": [
    {
     "name": "stdout",
     "output_type": "stream",
     "text": [
      "{'001': 1024}\n"
     ]
    }
   ],
   "source": [
    "from qiskit import QuantumCircuit, QuantumRegister, ClassicalRegister, Aer, execute\n",
    "import numpy as np\n",
    "\n",
    "\n",
    "def quantum_addition(qc, a, b, c):\n",
    "    # apply the approximate Fourier transform to the first register\n",
    "    for i in range(len(a)):\n",
    "        qc.h(a[i])\n",
    "        for j in range(i+1, len(a)):\n",
    "            qc.cp(2 * np.pi / (2 ** (j-i)), a[j], a[i])\n",
    "\n",
    "    # apply the controlled phase shift gates to the second register\n",
    "    for i in range(len(b)):\n",
    "        qc.cp(2 * np.pi * 2 ** i, a[len(a) - i - 1], b[i])\n",
    "\n",
    "    # apply the inverse approximate Fourier transform to the first register\n",
    "    for i in reversed(range(len(a))):\n",
    "        for j in reversed(range(i+1, len(a))):\n",
    "            qc.cp(-2 * np.pi / (2 ** (j-i)), a[j], a[i])\n",
    "        qc.h(a[i])\n",
    "\n",
    "    # copy the result from the first register to the third register\n",
    "    qc.cx(a, c)\n",
    "\n",
    "# create three quantum registers\n",
    "a = QuantumRegister(3, 'a')  # first input register\n",
    "b = QuantumRegister(3, 'b')  # second input register\n",
    "c = QuantumRegister(3, 'c')  # output register\n",
    "\n",
    "# create a classical register to measure the output register\n",
    "m = ClassicalRegister(3, 'm')\n",
    "\n",
    "# create a quantum circuit\n",
    "qc = QuantumCircuit(a, b, c, m)\n",
    "\n",
    "# set the inputs\n",
    "qc.x(a[0])\n",
    "qc.x(b[1])\n",
    "qc.x(b[2])\n",
    "\n",
    "# perform quantum addition\n",
    "quantum_addition(qc, a, b, c)\n",
    "\n",
    "# measure the output register\n",
    "qc.measure(c, m)\n",
    "\n",
    "# simulate the circuit\n",
    "backend = Aer.get_backend('qasm_simulator')\n",
    "result = execute(qc, backend=backend, shots=1024).result()\n",
    "\n",
    "# print the results\n",
    "print(result.get_counts(qc))\n"
   ]
  },
  {
   "attachments": {},
   "cell_type": "markdown",
   "metadata": {},
   "source": [
    "In this implementation, we use the approximate Fourier transform instead of the quantum Fourier transform. The approximate Fourier transform is a simplified version of the quantum Fourier transform that uses fewer gates and is therefore easier to implement in hardware. The quantum_addition function now applies the approximate Fourier transform instead of the QFT to the first input register a. We use qc.h() gates and controlled qc.crz() gates to implement the approximate Fourier transform.\n",
    "\n",
    "The rest of the algorithm is the same as before: we apply controlled phase shift gates to the second input register b, apply the inverse approximate Fourier transform to a, and copy the result from a to the output register c.\n",
    "\n",
    "The output of the code is a dictionary that maps each possible measurement outcome to the number of times that outcome was observed in the simulation. For example, if the output is {'000': 1024}, it means that the output register measured 000 in all 1024 shots of the simulation.\n",
    "\n",
    "In this case, since we set the input to be a = 001 and b = 011, the expected output of the quantum addition circuit should be c = 100. That is because a + b = 001 + 011 = 100 in binary.\n",
    "\n",
    "Let's look at an example output from the simulation. Suppose the output is {'000': 53, '100': 971}. This means that the output register measured 000 in 53 shots and 100 in 971 shots. We can interpret this result as follows: the circuit produced the correct output c = 100 in 971 out of 1024 shots, or approximately 95% of the time. The remaining 5% of the time, the output was 000, which is not the expected output.\n",
    "\n",
    "Note that due to the probabilistic nature of quantum computing, the actual output of the circuit can vary from one execution to the next, even if the input is the same. However, as we increase the number of shots in the simulation, the probability of observing the correct output approaches 1."
   ]
  },
  {
   "cell_type": "code",
   "execution_count": null,
   "metadata": {},
   "outputs": [],
   "source": []
  }
 ],
 "metadata": {
  "kernelspec": {
   "display_name": "Python 3",
   "language": "python",
   "name": "python3"
  },
  "language_info": {
   "codemirror_mode": {
    "name": "ipython",
    "version": 3
   },
   "file_extension": ".py",
   "mimetype": "text/x-python",
   "name": "python",
   "nbconvert_exporter": "python",
   "pygments_lexer": "ipython3",
   "version": "3.9.13"
  },
  "orig_nbformat": 4
 },
 "nbformat": 4,
 "nbformat_minor": 2
}
